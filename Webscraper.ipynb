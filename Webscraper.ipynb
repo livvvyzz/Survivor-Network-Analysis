{
 "cells": [
  {
   "cell_type": "code",
   "execution_count": 3,
   "metadata": {
    "collapsed": true
   },
   "outputs": [],
   "source": [
    "import requests\n",
    "from bs4 import BeautifulSoup\n",
    "import pandas as pd\n",
    "import re\n",
    "website_url = requests.get('https://survivor.fandom.com/wiki/Survivor:_China').text\n",
    "\n",
    "soup = BeautifulSoup(website_url,'lxml')\n",
    "##print(soup.prettify())\n",
    "\n",
    "My_table = soup.find('table',{'class':'wikitable article-table'})\n",
    "#print(My_table)"
   ]
  },
  {
   "cell_type": "code",
   "execution_count": 5,
   "metadata": {},
   "outputs": [],
   "source": [
    "def get_next_castaway(array, pointer):\n",
    "    clean = array[pointer:pointer+3]\n",
    "    count = pointer + 3\n",
    "    while clean[count-1] !='' or clean[count-2] !='' or clean[count-3]!='':\n",
    "        count = count + 1\n",
    "        clean = array[0:count]\n",
    "    #print(count)\n",
    "    #print(clean)"
   ]
  },
  {
   "cell_type": "code",
   "execution_count": null,
   "metadata": {},
   "outputs": [],
   "source": [
    "table_text = My_table.get_text()\n",
    "table_array = table_text.splitlines()\n",
    "\n",
    "#clean up the table text.\n",
    "cleaned_array = table_array[14:]"
   ]
  },
  {
   "cell_type": "code",
   "execution_count": 6,
   "metadata": {},
   "outputs": [
    {
     "ename": "NameError",
     "evalue": "name 'cleaned_array' is not defined",
     "traceback": [
      "\u001b[0;31m---------------------------------------------------------------------------\u001b[0m",
      "\u001b[0;31mNameError\u001b[0m                                 Traceback (most recent call last)",
      "\u001b[0;32m<ipython-input-6-ccb5a88f8e1b>\u001b[0m in \u001b[0;36m<module>\u001b[0;34m()\u001b[0m\n\u001b[1;32m      2\u001b[0m \u001b[0mpointer\u001b[0m \u001b[0;34m=\u001b[0m \u001b[0;36m0\u001b[0m\u001b[0;34m\u001b[0m\u001b[0m\n\u001b[1;32m      3\u001b[0m \u001b[0mprev_pointer\u001b[0m \u001b[0;34m=\u001b[0m \u001b[0;36m0\u001b[0m\u001b[0;34m\u001b[0m\u001b[0m\n\u001b[0;32m----> 4\u001b[0;31m \u001b[0;32mwhile\u001b[0m \u001b[0mlen\u001b[0m\u001b[0;34m(\u001b[0m\u001b[0mcleaned_array\u001b[0m\u001b[0;34m)\u001b[0m \u001b[0;34m>\u001b[0m \u001b[0mpointer\u001b[0m\u001b[0;34m:\u001b[0m\u001b[0;34m\u001b[0m\u001b[0m\n\u001b[0m\u001b[1;32m      5\u001b[0m     \u001b[0mprev_pointer\u001b[0m \u001b[0;34m=\u001b[0m \u001b[0mpointer\u001b[0m\u001b[0;34m\u001b[0m\u001b[0m\n\u001b[1;32m      6\u001b[0m     \u001b[0mpointer\u001b[0m \u001b[0;34m=\u001b[0m \u001b[0mget_next_castaway\u001b[0m\u001b[0;34m(\u001b[0m\u001b[0mcleaned_array\u001b[0m\u001b[0;34m,\u001b[0m \u001b[0mpointer\u001b[0m\u001b[0;34m)\u001b[0m\u001b[0;34m\u001b[0m\u001b[0m\n",
      "\u001b[0;31mNameError\u001b[0m: name 'cleaned_array' is not defined"
     ],
     "output_type": "error"
    }
   ],
   "source": [
    "\n",
    "pointer = 0\n",
    "prev_pointer = 0\n",
    "while len(cleaned_array) > pointer:\n",
    "    prev_pointer = pointer\n",
    "    pointer = get_next_castaway(cleaned_array, pointer)\n",
    "    castaway_array = cleaned_array[prev_pointer:pointer]\n",
    "    print(pointer, prev_pointer)\n",
    "    #get the name\n",
    "    if castaway_array[0].find(',') != -1:\n",
    "        name_age = castaway_array[0][0:castaway_array[0].find(',')]\n",
    "        #print(name_age)\n",
    "        num_index = re.search(r\"\\d\", name_age)\n",
    "        name = name_age[0:num_index.start()]\n",
    "        age = name_age[num_index.start():]\n",
    "        #print(name)\n",
    "        #print(age)\n",
    "        "
   ]
  },
  {
   "cell_type": "code",
   "execution_count": null,
   "metadata": {},
   "outputs": [],
   "source": [
    "\n",
    "#create the table of castaway info\n",
    "column_names = [\"Name\", \"Age\", \"Hometown\", \"Tribe\", \"Rank\", \"Day voted out\", \"Votes against\"]\n",
    "df = pd.DataFrame(columns = column_names)\n",
    "\n",
    "##Extract import info from the table\n",
    "##We want Name, Tribes, Day voted out\n",
    "\n",
    "## This function will take text (which represents on row for a castaway) and extract its info\n",
    "def extract_castaway_info (text):\n",
    "    print(text)\n",
    "\n",
    "\n",
    "## Todo Create the castaways dataset, with a row for each individuals castaway + tribe\n",
    "## Todo add image URLs to the dataset\n",
    "## Todo get a list of all fandom survivor seasons, an use that to iterate through\n",
    "## Todo make sure that all seasons have the same format"
   ]
  }
 ],
 "metadata": {
  "kernelspec": {
   "display_name": "Python 2",
   "language": "python",
   "name": "python2"
  },
  "language_info": {
   "codemirror_mode": {
    "name": "ipython",
    "version": 2
   },
   "file_extension": ".py",
   "mimetype": "text/x-python",
   "name": "python",
   "nbconvert_exporter": "python",
   "pygments_lexer": "ipython2",
   "version": "2.7.6"
  }
 },
 "nbformat": 4,
 "nbformat_minor": 0
}
